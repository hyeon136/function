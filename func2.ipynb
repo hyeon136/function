{
 "cells": [
  {
   "cell_type": "code",
   "execution_count": 1,
   "metadata": {},
   "outputs": [],
   "source": [
    "import matplotlib.pyplot as plt\n",
    "import numpy as np"
   ]
  },
  {
   "cell_type": "code",
   "execution_count": 2,
   "metadata": {},
   "outputs": [],
   "source": [
    "def lineData():\n",
    "    x = [1,2,3,4,5,6,7]\n",
    "    y = [1,2,3,4,5,6,7]\n",
    "\n",
    "    return x,y"
   ]
  },
  {
   "cell_type": "code",
   "execution_count": 8,
   "metadata": {},
   "outputs": [],
   "source": [
    "def lineData2(start, end):\n",
    "    x = [i for i in range(start,end+1)]\n",
    "    y = [i for i in range(start,end+1)]\n",
    "\n",
    "    return x,y"
   ]
  },
  {
   "cell_type": "code",
   "execution_count": 13,
   "metadata": {},
   "outputs": [],
   "source": [
    "def lineData3(start, end):\n",
    "    x = np.arange(start,end+1)\n",
    "    y = np.arange(start,end+1)\n",
    "\n",
    "    return x,y"
   ]
  },
  {
   "cell_type": "code",
   "execution_count": 16,
   "metadata": {},
   "outputs": [],
   "source": [
    "def lineData4(start : int, end : int, interval : int = 1):\n",
    "    x = np.arange(start, end+1, interval)\n",
    "    y = np.arange(start, end+1, interval)\n",
    "\n",
    "    return x,y"
   ]
  },
  {
   "cell_type": "code",
   "execution_count": 32,
   "metadata": {},
   "outputs": [],
   "source": [
    "def applyCoef(x,coef):\n",
    "    y = 0\n",
    "\n",
    "    for idx, val in enumerate(coef):\n",
    "        if idx == 0:\n",
    "            y+= val\n",
    "        else :\n",
    "            y+= val*x**idx\n",
    "\n",
    "    return y"
   ]
  },
  {
   "cell_type": "code",
   "execution_count": 35,
   "metadata": {},
   "outputs": [],
   "source": [
    "#곡선 데이터 생성\n",
    "#x값 변화x\n",
    "#y값 변화o\n",
    "#2차 곡선\n",
    "def customData(start,end, interval=1, coef=(0,1)):\n",
    "    x = np.arange(start, end+1, interval)\n",
    "    y = applyCoef(x,coef)\n",
    "\n",
    "    return x,y"
   ]
  },
  {
   "cell_type": "code",
   "execution_count": null,
   "metadata": {},
   "outputs": [],
   "source": [
    "# n차 곡선 대응 그래프\n",
    "def customData2(start,end, interval=1):\n",
    "    x = np.arange(start, end+1, interval)\n",
    "    y = x**2\n",
    "\n",
    "    return x,y"
   ]
  },
  {
   "cell_type": "code",
   "execution_count": 5,
   "metadata": {},
   "outputs": [],
   "source": [
    "def Draw(x,y):\n",
    "    plt.plot(x,y)\n",
    "    plt.show()"
   ]
  },
  {
   "cell_type": "code",
   "execution_count": 36,
   "metadata": {},
   "outputs": [
    {
     "data": {
      "image/png": "[encoded data removed]",
      "text/plain": [
       "<Figure size 640x480 with 1 Axes>"
      ]
     },
     "metadata": {},
     "output_type": "display_data"
    }
   ],
   "source": [
    "x,y = customData(0,1000, 5,(0,0,1))\n",
    "Draw(x,y)"
   ]
  },
  {
   "cell_type": "code",
   "execution_count": null,
   "metadata": {},
   "outputs": [],
   "source": []
  }
 ],
 "metadata": {
  "kernelspec": {
   "display_name": "base",
   "language": "python",
   "name": "python3"
  },
  "language_info": {
   "codemirror_mode": {
    "name": "ipython",
    "version": 3
   },
   "file_extension": ".py",
   "mimetype": "text/x-python",
   "name": "python",
   "nbconvert_exporter": "python",
   "pygments_lexer": "ipython3",
   "version": "3.9.13"
  },
  "orig_nbformat": 4,
  "vscode": {
   "interpreter": {
    "hash": "f0190fb74f711315221f4b0fca7b4ef265268b3d2a54bfc83b74f16662ccc29d"
   }
  }
 },
 "nbformat": 4,
 "nbformat_minor": 2
}
